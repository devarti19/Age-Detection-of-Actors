{
 "cells": [
  {
   "cell_type": "code",
   "execution_count": 1,
   "metadata": {},
   "outputs": [
    {
     "name": "stderr",
     "output_type": "stream",
     "text": [
      "Using TensorFlow backend.\n"
     ]
    }
   ],
   "source": [
    "import os\n",
    "import pandas as pd\n",
    "import numpy as np\n",
    "import matplotlib.pyplot as plt\n",
    "import random\n",
    "import cv2\n",
    "from sklearn.preprocessing import LabelEncoder\n",
    "import keras\n",
    "from keras.models import Sequential\n",
    "from keras.layers import Conv2D, MaxPooling2D\n",
    "from keras.layers import Activation, Dropout, Flatten, Dense\n",
    "from keras.utils.np_utils import to_categorical"
   ]
  },
  {
   "cell_type": "code",
   "execution_count": 2,
   "metadata": {},
   "outputs": [],
   "source": [
    "root_dir = os.path.abspath('../..')\n",
    "data_dir = os.path.join(root_dir, '91758')"
   ]
  },
  {
   "cell_type": "code",
   "execution_count": 3,
   "metadata": {},
   "outputs": [],
   "source": [
    "train= pd.read_csv(r'C:\\Users\\91758\\Downloads\\Age Detection of Actors\\train\\train.csv',delimiter=\",\",index_col=None)\n",
    "test= pd.read_csv(r'C:\\Users\\91758\\Downloads\\Age Detection of Actors\\test\\test.csv',delimiter=\",\",index_col=None)"
   ]
  },
  {
   "cell_type": "code",
   "execution_count": 4,
   "metadata": {},
   "outputs": [
    {
     "data": {
      "text/html": [
       "<div>\n",
       "<style scoped>\n",
       "    .dataframe tbody tr th:only-of-type {\n",
       "        vertical-align: middle;\n",
       "    }\n",
       "\n",
       "    .dataframe tbody tr th {\n",
       "        vertical-align: top;\n",
       "    }\n",
       "\n",
       "    .dataframe thead th {\n",
       "        text-align: right;\n",
       "    }\n",
       "</style>\n",
       "<table border=\"1\" class=\"dataframe\">\n",
       "  <thead>\n",
       "    <tr style=\"text-align: right;\">\n",
       "      <th></th>\n",
       "      <th>ID</th>\n",
       "      <th>Class</th>\n",
       "    </tr>\n",
       "  </thead>\n",
       "  <tbody>\n",
       "    <tr>\n",
       "      <th>0</th>\n",
       "      <td>377.jpg</td>\n",
       "      <td>MIDDLE</td>\n",
       "    </tr>\n",
       "    <tr>\n",
       "      <th>1</th>\n",
       "      <td>17814.jpg</td>\n",
       "      <td>YOUNG</td>\n",
       "    </tr>\n",
       "    <tr>\n",
       "      <th>2</th>\n",
       "      <td>21283.jpg</td>\n",
       "      <td>MIDDLE</td>\n",
       "    </tr>\n",
       "    <tr>\n",
       "      <th>3</th>\n",
       "      <td>16496.jpg</td>\n",
       "      <td>YOUNG</td>\n",
       "    </tr>\n",
       "    <tr>\n",
       "      <th>4</th>\n",
       "      <td>4487.jpg</td>\n",
       "      <td>MIDDLE</td>\n",
       "    </tr>\n",
       "  </tbody>\n",
       "</table>\n",
       "</div>"
      ],
      "text/plain": [
       "          ID   Class\n",
       "0    377.jpg  MIDDLE\n",
       "1  17814.jpg   YOUNG\n",
       "2  21283.jpg  MIDDLE\n",
       "3  16496.jpg   YOUNG\n",
       "4   4487.jpg  MIDDLE"
      ]
     },
     "execution_count": 4,
     "metadata": {},
     "output_type": "execute_result"
    }
   ],
   "source": [
    "train.head()"
   ]
  },
  {
   "cell_type": "code",
   "execution_count": 5,
   "metadata": {},
   "outputs": [
    {
     "data": {
      "text/html": [
       "<div>\n",
       "<style scoped>\n",
       "    .dataframe tbody tr th:only-of-type {\n",
       "        vertical-align: middle;\n",
       "    }\n",
       "\n",
       "    .dataframe tbody tr th {\n",
       "        vertical-align: top;\n",
       "    }\n",
       "\n",
       "    .dataframe thead th {\n",
       "        text-align: right;\n",
       "    }\n",
       "</style>\n",
       "<table border=\"1\" class=\"dataframe\">\n",
       "  <thead>\n",
       "    <tr style=\"text-align: right;\">\n",
       "      <th></th>\n",
       "      <th>ID</th>\n",
       "    </tr>\n",
       "  </thead>\n",
       "  <tbody>\n",
       "    <tr>\n",
       "      <th>0</th>\n",
       "      <td>25321.jpg</td>\n",
       "    </tr>\n",
       "    <tr>\n",
       "      <th>1</th>\n",
       "      <td>989.jpg</td>\n",
       "    </tr>\n",
       "    <tr>\n",
       "      <th>2</th>\n",
       "      <td>19277.jpg</td>\n",
       "    </tr>\n",
       "    <tr>\n",
       "      <th>3</th>\n",
       "      <td>13093.jpg</td>\n",
       "    </tr>\n",
       "    <tr>\n",
       "      <th>4</th>\n",
       "      <td>5367.jpg</td>\n",
       "    </tr>\n",
       "  </tbody>\n",
       "</table>\n",
       "</div>"
      ],
      "text/plain": [
       "          ID\n",
       "0  25321.jpg\n",
       "1    989.jpg\n",
       "2  19277.jpg\n",
       "3  13093.jpg\n",
       "4   5367.jpg"
      ]
     },
     "execution_count": 5,
     "metadata": {},
     "output_type": "execute_result"
    }
   ],
   "source": [
    "test.head()"
   ]
  },
  {
   "cell_type": "code",
   "execution_count": 6,
   "metadata": {},
   "outputs": [
    {
     "name": "stdout",
     "output_type": "stream",
     "text": [
      "10995\n",
      "Age YOUNG\n"
     ]
    }
   ],
   "source": [
    "i=random.choice(train.index)\n",
    "print(i)\n",
    "img_name=train.ID[i]\n",
    "img=cv2.imread(os.path.join(data_dir,'Downloads','Age Detection of Actors','train','Train',img_name))\n",
    "print(\"Age\",train.Class[i])\n",
    "cv2.imshow('preview',img)"
   ]
  },
  {
   "cell_type": "code",
   "execution_count": 7,
   "metadata": {},
   "outputs": [],
   "source": [
    "temp = []\n",
    "for img_name in train.ID:\n",
    "    img_path = os.path.join(data_dir,'Downloads','Age Detection of Actors','train','Train', img_name)\n",
    "    img = cv2.imread(img_path)\n",
    "    \n",
    "    #Gausian blur - Applies a Gaussian Noise kernel\n",
    "    kernel_size = 7\n",
    "    img = cv2.GaussianBlur(img, (kernel_size, kernel_size), 0)\n",
    "    img = cv2.resize(img, (32, 32), cv2.INTER_LINEAR)\n",
    "    img = img.astype('float32') \n",
    "    temp.append(img)\n",
    "\n",
    "train_x = np.stack(temp)"
   ]
  },
  {
   "cell_type": "code",
   "execution_count": 8,
   "metadata": {},
   "outputs": [
    {
     "data": {
      "text/plain": [
       "(19906, 32, 32, 3)"
      ]
     },
     "execution_count": 8,
     "metadata": {},
     "output_type": "execute_result"
    }
   ],
   "source": [
    "train_x.shape"
   ]
  },
  {
   "cell_type": "code",
   "execution_count": 23,
   "metadata": {},
   "outputs": [],
   "source": [
    "temp = []\n",
    "for img_name in test.ID:\n",
    "    img_path = os.path.join(data_dir,'Downloads','Age Detection of Actors','test','Test', img_name)\n",
    "    img = cv2.imread(img_path)\n",
    "    #Gausian blur - Applies a Gaussian Noise kernel\n",
    "    kernel_size = 7\n",
    "    img = cv2.GaussianBlur(img, (kernel_size, kernel_size), 0)\n",
    "    img = cv2.resize(img, (32, 32), cv2.INTER_LINEAR)\n",
    "    img = img.astype('float32')\n",
    "    temp.append(img)\n",
    "\n",
    "test_x = np.stack(temp)"
   ]
  },
  {
   "cell_type": "code",
   "execution_count": 24,
   "metadata": {},
   "outputs": [
    {
     "data": {
      "text/plain": [
       "(6636, 32, 32, 3)"
      ]
     },
     "execution_count": 24,
     "metadata": {},
     "output_type": "execute_result"
    }
   ],
   "source": [
    "test_x.shape"
   ]
  },
  {
   "cell_type": "code",
   "execution_count": 11,
   "metadata": {},
   "outputs": [],
   "source": [
    "## Convert target variable to categorical variable\n",
    "lb = LabelEncoder()\n",
    "train_y = lb.fit_transform(train.Class)\n",
    "train_y = keras.utils.np_utils.to_categorical(train_y)"
   ]
  },
  {
   "cell_type": "code",
   "execution_count": 12,
   "metadata": {},
   "outputs": [],
   "source": [
    "epochs = 40\n",
    "batch_size = 64"
   ]
  },
  {
   "cell_type": "code",
   "execution_count": 13,
   "metadata": {},
   "outputs": [
    {
     "name": "stdout",
     "output_type": "stream",
     "text": [
      "Model: \"sequential_1\"\n",
      "_________________________________________________________________\n",
      "Layer (type)                 Output Shape              Param #   \n",
      "=================================================================\n",
      "conv2d_1 (Conv2D)            (None, 28, 28, 32)        2432      \n",
      "_________________________________________________________________\n",
      "max_pooling2d_1 (MaxPooling2 (None, 14, 14, 32)        0         \n",
      "_________________________________________________________________\n",
      "conv2d_2 (Conv2D)            (None, 12, 12, 32)        9248      \n",
      "_________________________________________________________________\n",
      "max_pooling2d_2 (MaxPooling2 (None, 6, 6, 32)          0         \n",
      "_________________________________________________________________\n",
      "flatten_1 (Flatten)          (None, 1152)              0         \n",
      "_________________________________________________________________\n",
      "dense_1 (Dense)              (None, 500)               576500    \n",
      "_________________________________________________________________\n",
      "dropout_1 (Dropout)          (None, 500)               0         \n",
      "_________________________________________________________________\n",
      "dense_2 (Dense)              (None, 100)               50100     \n",
      "_________________________________________________________________\n",
      "dropout_2 (Dropout)          (None, 100)               0         \n",
      "_________________________________________________________________\n",
      "dense_3 (Dense)              (None, 20)                2020      \n",
      "_________________________________________________________________\n",
      "dropout_3 (Dropout)          (None, 20)                0         \n",
      "_________________________________________________________________\n",
      "dense_4 (Dense)              (None, 3)                 63        \n",
      "=================================================================\n",
      "Total params: 640,363\n",
      "Trainable params: 640,363\n",
      "Non-trainable params: 0\n",
      "_________________________________________________________________\n"
     ]
    },
    {
     "name": "stderr",
     "output_type": "stream",
     "text": [
      "C:\\Users\\91758\\AppData\\Local\\Continuum\\anaconda3\\lib\\site-packages\\ipykernel_launcher.py:3: UserWarning: Update your `Conv2D` call to the Keras 2 API: `Conv2D(32, (5, 5), activation=\"relu\", input_shape=(32, 32, 3...)`\n",
      "  This is separate from the ipykernel package so we can avoid doing imports until\n",
      "C:\\Users\\91758\\AppData\\Local\\Continuum\\anaconda3\\lib\\site-packages\\ipykernel_launcher.py:6: UserWarning: Update your `Conv2D` call to the Keras 2 API: `Conv2D(32, (3, 3), activation=\"relu\")`\n",
      "  \n",
      "C:\\Users\\91758\\AppData\\Local\\Continuum\\anaconda3\\lib\\site-packages\\ipykernel_launcher.py:10: UserWarning: Update your `Dense` call to the Keras 2 API: `Dense(500, activation=\"relu\", kernel_initializer=\"uniform\")`\n",
      "  # Remove the CWD from sys.path while we load stuff.\n",
      "C:\\Users\\91758\\AppData\\Local\\Continuum\\anaconda3\\lib\\site-packages\\ipykernel_launcher.py:13: UserWarning: Update your `Dense` call to the Keras 2 API: `Dense(100, activation=\"relu\", kernel_initializer=\"uniform\")`\n",
      "  del sys.path[0]\n",
      "C:\\Users\\91758\\AppData\\Local\\Continuum\\anaconda3\\lib\\site-packages\\ipykernel_launcher.py:16: UserWarning: Update your `Dense` call to the Keras 2 API: `Dense(20, activation=\"relu\", kernel_initializer=\"uniform\")`\n",
      "  app.launch_new_instance()\n"
     ]
    }
   ],
   "source": [
    "cnn_model = Sequential()\n",
    "\n",
    "cnn_model.add(Conv2D(32, 5, 5, activation='relu', input_shape=(32, 32, 3)))\n",
    "cnn_model.add(MaxPooling2D(pool_size=(2,2)))\n",
    "\n",
    "cnn_model.add(Conv2D(32, 3, 3, activation='relu'))\n",
    "cnn_model.add(MaxPooling2D(pool_size=(2,2)))\n",
    "cnn_model.add(Flatten())\n",
    "\n",
    "cnn_model.add(Dense(500, init='uniform', activation='relu'))\n",
    "cnn_model.add(Dropout(0.4))\n",
    "\n",
    "cnn_model.add(Dense(100, init='uniform', activation='relu'))\n",
    "cnn_model.add(Dropout(0.4))\n",
    "\n",
    "cnn_model.add(Dense(20, init='uniform', activation='relu'))\n",
    "cnn_model.add(Dropout(0.4))\n",
    "\n",
    "cnn_model.add(Dense(3, activation='softmax'))\n",
    "\n",
    "# Summary\n",
    "cnn_model.summary()"
   ]
  },
  {
   "cell_type": "code",
   "execution_count": 31,
   "metadata": {},
   "outputs": [
    {
     "name": "stdout",
     "output_type": "stream",
     "text": [
      "Train on 15924 samples, validate on 3982 samples\n",
      "Epoch 1/52\n",
      "15924/15924 [==============================] - 22s 1ms/step - loss: 0.1813 - accuracy: 0.9370 - val_loss: 1.5602 - val_accuracy: 0.7315\n",
      "Epoch 2/52\n",
      "15924/15924 [==============================] - 21s 1ms/step - loss: 0.1726 - accuracy: 0.9432 - val_loss: 1.5061 - val_accuracy: 0.7258\n",
      "Epoch 3/52\n",
      "15924/15924 [==============================] - 22s 1ms/step - loss: 0.1776 - accuracy: 0.9398 - val_loss: 1.4066 - val_accuracy: 0.7280\n",
      "Epoch 4/52\n",
      "15924/15924 [==============================] - 23s 1ms/step - loss: 0.1999 - accuracy: 0.9304 - val_loss: 1.6064 - val_accuracy: 0.7336\n",
      "Epoch 5/52\n",
      "15924/15924 [==============================] - 24s 1ms/step - loss: 0.1552 - accuracy: 0.9467 - val_loss: 1.3928 - val_accuracy: 0.7336\n",
      "Epoch 6/52\n",
      "15924/15924 [==============================] - 24s 1ms/step - loss: 0.1623 - accuracy: 0.9454 - val_loss: 1.4347 - val_accuracy: 0.7343\n",
      "Epoch 7/52\n",
      "15924/15924 [==============================] - 25s 2ms/step - loss: 0.1513 - accuracy: 0.9493 - val_loss: 1.3641 - val_accuracy: 0.7295\n",
      "Epoch 8/52\n",
      "15924/15924 [==============================] - 23s 1ms/step - loss: 0.1453 - accuracy: 0.9479 - val_loss: 2.0122 - val_accuracy: 0.7313\n",
      "Epoch 9/52\n",
      "15924/15924 [==============================] - 23s 1ms/step - loss: 0.1341 - accuracy: 0.9538 - val_loss: 1.8861 - val_accuracy: 0.7341\n",
      "Epoch 10/52\n",
      "15924/15924 [==============================] - 21s 1ms/step - loss: 0.1761 - accuracy: 0.9443 - val_loss: 1.4699 - val_accuracy: 0.7268\n",
      "Epoch 11/52\n",
      "15924/15924 [==============================] - 23s 1ms/step - loss: 0.1307 - accuracy: 0.9559 - val_loss: 1.7528 - val_accuracy: 0.7336\n",
      "Epoch 12/52\n",
      "15924/15924 [==============================] - 21s 1ms/step - loss: 0.1365 - accuracy: 0.9560 - val_loss: 1.5251 - val_accuracy: 0.7268\n",
      "Epoch 13/52\n",
      "15924/15924 [==============================] - 21s 1ms/step - loss: 0.1379 - accuracy: 0.9555 - val_loss: 1.4612 - val_accuracy: 0.7333\n",
      "Epoch 14/52\n",
      "15924/15924 [==============================] - 22s 1ms/step - loss: 0.1345 - accuracy: 0.9563 - val_loss: 1.5880 - val_accuracy: 0.7351\n",
      "Epoch 15/52\n",
      "15924/15924 [==============================] - 21s 1ms/step - loss: 0.1358 - accuracy: 0.9554 - val_loss: 1.6443 - val_accuracy: 0.7268\n",
      "Epoch 16/52\n",
      "15924/15924 [==============================] - 21s 1ms/step - loss: 0.1261 - accuracy: 0.9570 - val_loss: 1.6064 - val_accuracy: 0.7313\n",
      "Epoch 17/52\n",
      "15924/15924 [==============================] - 21s 1ms/step - loss: 0.1260 - accuracy: 0.9570 - val_loss: 1.9853 - val_accuracy: 0.7348\n",
      "Epoch 18/52\n",
      "15924/15924 [==============================] - 21s 1ms/step - loss: 0.1175 - accuracy: 0.9628 - val_loss: 1.6698 - val_accuracy: 0.7288\n",
      "Epoch 19/52\n",
      "15924/15924 [==============================] - 21s 1ms/step - loss: 0.1285 - accuracy: 0.9593 - val_loss: 1.5678 - val_accuracy: 0.7278\n",
      "Epoch 20/52\n",
      "15924/15924 [==============================] - 21s 1ms/step - loss: 0.1105 - accuracy: 0.9622 - val_loss: 1.8302 - val_accuracy: 0.7373\n",
      "Epoch 21/52\n",
      "15924/15924 [==============================] - 21s 1ms/step - loss: 0.1187 - accuracy: 0.9616 - val_loss: 1.5721 - val_accuracy: 0.7310\n",
      "Epoch 22/52\n",
      "15924/15924 [==============================] - 23s 1ms/step - loss: 0.1082 - accuracy: 0.9633 - val_loss: 1.6038 - val_accuracy: 0.7343\n",
      "Epoch 23/52\n",
      "15924/15924 [==============================] - 21s 1ms/step - loss: 0.1386 - accuracy: 0.9568 - val_loss: 1.5232 - val_accuracy: 0.7348\n",
      "Epoch 24/52\n",
      "15924/15924 [==============================] - 21s 1ms/step - loss: 0.1239 - accuracy: 0.9607 - val_loss: 1.8214 - val_accuracy: 0.7318\n",
      "Epoch 25/52\n",
      "15924/15924 [==============================] - 21s 1ms/step - loss: 0.1093 - accuracy: 0.9660 - val_loss: 1.7687 - val_accuracy: 0.7293\n",
      "Epoch 26/52\n",
      "15924/15924 [==============================] - 22s 1ms/step - loss: 0.1230 - accuracy: 0.9633 - val_loss: 1.7378 - val_accuracy: 0.7338\n",
      "Epoch 27/52\n",
      "15924/15924 [==============================] - 25s 2ms/step - loss: 0.1238 - accuracy: 0.9601 - val_loss: 1.4780 - val_accuracy: 0.7290\n",
      "Epoch 28/52\n",
      "15924/15924 [==============================] - 22s 1ms/step - loss: 0.1106 - accuracy: 0.9634 - val_loss: 1.6281 - val_accuracy: 0.7305\n",
      "Epoch 29/52\n",
      "15924/15924 [==============================] - 21s 1ms/step - loss: 0.0945 - accuracy: 0.9705 - val_loss: 1.6224 - val_accuracy: 0.7268\n",
      "Epoch 30/52\n",
      "15924/15924 [==============================] - 22s 1ms/step - loss: 0.0926 - accuracy: 0.9692 - val_loss: 1.7513 - val_accuracy: 0.7298\n",
      "Epoch 31/52\n",
      "15924/15924 [==============================] - 24s 2ms/step - loss: 0.1123 - accuracy: 0.9651 - val_loss: 1.7870 - val_accuracy: 0.7371\n",
      "Epoch 32/52\n",
      "15924/15924 [==============================] - 23s 1ms/step - loss: 0.1098 - accuracy: 0.9636 - val_loss: 1.5862 - val_accuracy: 0.7320\n",
      "Epoch 33/52\n",
      "15924/15924 [==============================] - 25s 2ms/step - loss: 0.1060 - accuracy: 0.9655 - val_loss: 1.6201 - val_accuracy: 0.7396\n",
      "Epoch 34/52\n",
      "15924/15924 [==============================] - 23s 1ms/step - loss: 0.0954 - accuracy: 0.9682 - val_loss: 2.1298 - val_accuracy: 0.7386\n",
      "Epoch 35/52\n",
      "15924/15924 [==============================] - 22s 1ms/step - loss: 0.0914 - accuracy: 0.9698 - val_loss: 1.8478 - val_accuracy: 0.7356\n",
      "Epoch 36/52\n",
      "15924/15924 [==============================] - 21s 1ms/step - loss: 0.0842 - accuracy: 0.9745 - val_loss: 1.7499 - val_accuracy: 0.7388\n",
      "Epoch 37/52\n",
      "15924/15924 [==============================] - 22s 1ms/step - loss: 0.0743 - accuracy: 0.9737 - val_loss: 2.1640 - val_accuracy: 0.7223\n",
      "Epoch 38/52\n",
      "15924/15924 [==============================] - 21s 1ms/step - loss: 0.0903 - accuracy: 0.9718 - val_loss: 1.7448 - val_accuracy: 0.7185\n",
      "Epoch 39/52\n",
      "15924/15924 [==============================] - 22s 1ms/step - loss: 0.0945 - accuracy: 0.9697 - val_loss: 2.0863 - val_accuracy: 0.7225\n",
      "Epoch 40/52\n",
      "15924/15924 [==============================] - 24s 2ms/step - loss: 0.0883 - accuracy: 0.9726 - val_loss: 2.2531 - val_accuracy: 0.7336\n",
      "Epoch 41/52\n",
      "15924/15924 [==============================] - 21s 1ms/step - loss: 0.1387 - accuracy: 0.9577 - val_loss: 1.4390 - val_accuracy: 0.7320\n",
      "Epoch 42/52\n",
      "15924/15924 [==============================] - 22s 1ms/step - loss: 0.0992 - accuracy: 0.9692 - val_loss: 1.5445 - val_accuracy: 0.7268\n",
      "Epoch 43/52\n",
      "15924/15924 [==============================] - 24s 2ms/step - loss: 0.0837 - accuracy: 0.9750 - val_loss: 1.8509 - val_accuracy: 0.7210\n",
      "Epoch 44/52\n",
      "15924/15924 [==============================] - 25s 2ms/step - loss: 0.0873 - accuracy: 0.9731 - val_loss: 1.8230 - val_accuracy: 0.7328\n",
      "Epoch 45/52\n",
      "15924/15924 [==============================] - 22s 1ms/step - loss: 0.0851 - accuracy: 0.9744 - val_loss: 1.7631 - val_accuracy: 0.7363\n",
      "Epoch 46/52\n",
      "15924/15924 [==============================] - 21s 1ms/step - loss: 0.0846 - accuracy: 0.9748 - val_loss: 1.7282 - val_accuracy: 0.7298\n",
      "Epoch 47/52\n",
      "15924/15924 [==============================] - 22s 1ms/step - loss: 0.0809 - accuracy: 0.9769 - val_loss: 1.7490 - val_accuracy: 0.7363\n",
      "Epoch 48/52\n",
      "15924/15924 [==============================] - 24s 2ms/step - loss: 0.0750 - accuracy: 0.9768 - val_loss: 1.9029 - val_accuracy: 0.7288\n",
      "Epoch 49/52\n",
      "15924/15924 [==============================] - 25s 2ms/step - loss: 0.0837 - accuracy: 0.9738 - val_loss: 2.1543 - val_accuracy: 0.7411\n",
      "Epoch 50/52\n",
      "15924/15924 [==============================] - 21s 1ms/step - loss: 0.0835 - accuracy: 0.9754 - val_loss: 2.3200 - val_accuracy: 0.7428\n",
      "Epoch 51/52\n",
      "15924/15924 [==============================] - 20s 1ms/step - loss: 0.0723 - accuracy: 0.9767 - val_loss: 1.8881 - val_accuracy: 0.7346\n",
      "Epoch 52/52\n",
      "15924/15924 [==============================] - 23s 1ms/step - loss: 0.0738 - accuracy: 0.9759 - val_loss: 2.2174 - val_accuracy: 0.7288\n"
     ]
    },
    {
     "data": {
      "text/plain": [
       "<keras.callbacks.callbacks.History at 0x1d4eefb0518>"
      ]
     },
     "execution_count": 31,
     "metadata": {},
     "output_type": "execute_result"
    }
   ],
   "source": [
    "#Compile model\n",
    "cnn_model.compile(loss = \"categorical_crossentropy\",\n",
    "              optimizer = 'adam',\n",
    "              metrics = ['accuracy'])\n",
    "# Training\n",
    "cnn_model.fit(train_x, train_y, batch_size=batch_size, epochs=52,verbose=1, validation_split=0.2) #batch_size=batch_size,"
   ]
  },
  {
   "cell_type": "code",
   "execution_count": 32,
   "metadata": {},
   "outputs": [],
   "source": [
    "pred = cnn_model.predict_classes(test_x)\n",
    "pred = lb.inverse_transform(pred)\n",
    "pred= pd.Series(pred)\n",
    "\n",
    "test['Class'] = pred\n",
    "test.to_csv(os.path.join(data_dir,'Downloads','Age Detection of Actors','sub.csv'), index=False)"
   ]
  },
  {
   "cell_type": "code",
   "execution_count": 33,
   "metadata": {},
   "outputs": [
    {
     "data": {
      "text/plain": [
       "(6636, 2)"
      ]
     },
     "execution_count": 33,
     "metadata": {},
     "output_type": "execute_result"
    }
   ],
   "source": [
    "test.shape"
   ]
  },
  {
   "cell_type": "code",
   "execution_count": 34,
   "metadata": {},
   "outputs": [
    {
     "data": {
      "text/plain": [
       "(6636,)"
      ]
     },
     "execution_count": 34,
     "metadata": {},
     "output_type": "execute_result"
    }
   ],
   "source": [
    "pred.shape"
   ]
  },
  {
   "cell_type": "code",
   "execution_count": 35,
   "metadata": {},
   "outputs": [
    {
     "data": {
      "text/plain": [
       "0       MIDDLE\n",
       "1        YOUNG\n",
       "2          OLD\n",
       "3       MIDDLE\n",
       "4       MIDDLE\n",
       "         ...  \n",
       "6631    MIDDLE\n",
       "6632    MIDDLE\n",
       "6633    MIDDLE\n",
       "6634    MIDDLE\n",
       "6635    MIDDLE\n",
       "Length: 6636, dtype: object"
      ]
     },
     "execution_count": 35,
     "metadata": {},
     "output_type": "execute_result"
    }
   ],
   "source": [
    "pred"
   ]
  },
  {
   "cell_type": "code",
   "execution_count": 36,
   "metadata": {},
   "outputs": [
    {
     "data": {
      "text/html": [
       "<div>\n",
       "<style scoped>\n",
       "    .dataframe tbody tr th:only-of-type {\n",
       "        vertical-align: middle;\n",
       "    }\n",
       "\n",
       "    .dataframe tbody tr th {\n",
       "        vertical-align: top;\n",
       "    }\n",
       "\n",
       "    .dataframe thead th {\n",
       "        text-align: right;\n",
       "    }\n",
       "</style>\n",
       "<table border=\"1\" class=\"dataframe\">\n",
       "  <thead>\n",
       "    <tr style=\"text-align: right;\">\n",
       "      <th></th>\n",
       "      <th>ID</th>\n",
       "      <th>Class</th>\n",
       "    </tr>\n",
       "  </thead>\n",
       "  <tbody>\n",
       "    <tr>\n",
       "      <th>6631</th>\n",
       "      <td>1876.jpg</td>\n",
       "      <td>MIDDLE</td>\n",
       "    </tr>\n",
       "    <tr>\n",
       "      <th>6632</th>\n",
       "      <td>14940.jpg</td>\n",
       "      <td>MIDDLE</td>\n",
       "    </tr>\n",
       "    <tr>\n",
       "      <th>6633</th>\n",
       "      <td>3638.jpg</td>\n",
       "      <td>MIDDLE</td>\n",
       "    </tr>\n",
       "    <tr>\n",
       "      <th>6634</th>\n",
       "      <td>376.jpg</td>\n",
       "      <td>MIDDLE</td>\n",
       "    </tr>\n",
       "    <tr>\n",
       "      <th>6635</th>\n",
       "      <td>9357.jpg</td>\n",
       "      <td>MIDDLE</td>\n",
       "    </tr>\n",
       "  </tbody>\n",
       "</table>\n",
       "</div>"
      ],
      "text/plain": [
       "             ID   Class\n",
       "6631   1876.jpg  MIDDLE\n",
       "6632  14940.jpg  MIDDLE\n",
       "6633   3638.jpg  MIDDLE\n",
       "6634    376.jpg  MIDDLE\n",
       "6635   9357.jpg  MIDDLE"
      ]
     },
     "execution_count": 36,
     "metadata": {},
     "output_type": "execute_result"
    }
   ],
   "source": [
    "test.tail()"
   ]
  },
  {
   "cell_type": "code",
   "execution_count": 30,
   "metadata": {},
   "outputs": [
    {
     "data": {
      "text/plain": [
       "MIDDLE    4059\n",
       "YOUNG     1990\n",
       "OLD        587\n",
       "Name: Class, dtype: int64"
      ]
     },
     "execution_count": 30,
     "metadata": {},
     "output_type": "execute_result"
    }
   ],
   "source": [
    "#test.Class.value_counts()"
   ]
  },
  {
   "cell_type": "code",
   "execution_count": 37,
   "metadata": {},
   "outputs": [
    {
     "data": {
      "text/plain": [
       "MIDDLE    3858\n",
       "YOUNG     2085\n",
       "OLD        693\n",
       "Name: Class, dtype: int64"
      ]
     },
     "execution_count": 37,
     "metadata": {},
     "output_type": "execute_result"
    }
   ],
   "source": [
    "test.Class.value_counts()"
   ]
  }
 ],
 "metadata": {
  "kernelspec": {
   "display_name": "Python 3",
   "language": "python",
   "name": "python3"
  },
  "language_info": {
   "codemirror_mode": {
    "name": "ipython",
    "version": 3
   },
   "file_extension": ".py",
   "mimetype": "text/x-python",
   "name": "python",
   "nbconvert_exporter": "python",
   "pygments_lexer": "ipython3",
   "version": "3.7.3"
  }
 },
 "nbformat": 4,
 "nbformat_minor": 2
}
